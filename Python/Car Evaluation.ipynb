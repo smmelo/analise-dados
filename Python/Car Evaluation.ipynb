{
 "cells": [
  {
   "cell_type": "code",
   "execution_count": 1,
   "metadata": {
    "collapsed": true
   },
   "outputs": [],
   "source": [
    "%matplotlib inline\n",
    "\n",
    "import pandas as pd\n",
    "from pandas import Series,DataFrame\n",
    "\n",
    "import numpy as np"
   ]
  },
  {
   "cell_type": "markdown",
   "metadata": {},
   "source": [
    "# Carregando o arquivo csv..."
   ]
  },
  {
   "cell_type": "code",
   "execution_count": 16,
   "metadata": {
    "collapsed": false
   },
   "outputs": [],
   "source": [
    "# foi necessário utilizar os seguintes parâmetros:\n",
    "# a) index_col=False - deixa de pegar a primeira coluna para ser o índice das linhas\n",
    "# b) header=None - indica que a primeira linha do arquivo não contém o nome das colunas\n",
    "# c) names=[...] - seta o nome das colunas\n",
    "df = pd.read_csv('D:/Users/samuelmm/Desktop/car.csv', index_col=False, header=None, names=['buying','maint','doors','persons','lug_boot','safety','target'])"
   ]
  },
  {
   "cell_type": "code",
   "execution_count": 20,
   "metadata": {
    "collapsed": true
   },
   "outputs": [
    {
     "name": "stdout",
     "output_type": "stream",
     "text": [
      "buying      object\n",
      "maint       object\n",
      "doors       object\n",
      "persons     object\n",
      "lug_boot    object\n",
      "safety      object\n",
      "dtype: object\n",
      "     buying  maint  doors persons lug_boot safety\n",
      "0     vhigh  vhigh      2       2    small    low\n",
      "1     vhigh  vhigh      2       2    small    med\n",
      "2     vhigh  vhigh      2       2    small   high\n",
      "3     vhigh  vhigh      2       2      med    low\n",
      "4     vhigh  vhigh      2       2      med    med\n",
      "5     vhigh  vhigh      2       2      med   high\n",
      "6     vhigh  vhigh      2       2      big    low\n",
      "7     vhigh  vhigh      2       2      big    med\n",
      "8     vhigh  vhigh      2       2      big   high\n",
      "9     vhigh  vhigh      2       4    small    low\n",
      "10    vhigh  vhigh      2       4    small    med\n",
      "11    vhigh  vhigh      2       4    small   high\n",
      "12    vhigh  vhigh      2       4      med    low\n",
      "13    vhigh  vhigh      2       4      med    med\n",
      "14    vhigh  vhigh      2       4      med   high\n",
      "15    vhigh  vhigh      2       4      big    low\n",
      "16    vhigh  vhigh      2       4      big    med\n",
      "17    vhigh  vhigh      2       4      big   high\n",
      "18    vhigh  vhigh      2    more    small    low\n",
      "19    vhigh  vhigh      2    more    small    med\n",
      "20    vhigh  vhigh      2    more    small   high\n",
      "21    vhigh  vhigh      2    more      med    low\n",
      "22    vhigh  vhigh      2    more      med    med\n",
      "23    vhigh  vhigh      2    more      med   high\n",
      "24    vhigh  vhigh      2    more      big    low\n",
      "25    vhigh  vhigh      2    more      big    med\n",
      "26    vhigh  vhigh      2    more      big   high\n",
      "27    vhigh  vhigh      3       2    small    low\n",
      "28    vhigh  vhigh      3       2    small    med\n",
      "29    vhigh  vhigh      3       2    small   high\n",
      "...     ...    ...    ...     ...      ...    ...\n",
      "1698    low    low      4    more      big    low\n",
      "1699    low    low      4    more      big    med\n",
      "1700    low    low      4    more      big   high\n",
      "1701    low    low  5more       2    small    low\n",
      "1702    low    low  5more       2    small    med\n",
      "1703    low    low  5more       2    small   high\n",
      "1704    low    low  5more       2      med    low\n",
      "1705    low    low  5more       2      med    med\n",
      "1706    low    low  5more       2      med   high\n",
      "1707    low    low  5more       2      big    low\n",
      "1708    low    low  5more       2      big    med\n",
      "1709    low    low  5more       2      big   high\n",
      "1710    low    low  5more       4    small    low\n",
      "1711    low    low  5more       4    small    med\n",
      "1712    low    low  5more       4    small   high\n",
      "1713    low    low  5more       4      med    low\n",
      "1714    low    low  5more       4      med    med\n",
      "1715    low    low  5more       4      med   high\n",
      "1716    low    low  5more       4      big    low\n",
      "1717    low    low  5more       4      big    med\n",
      "1718    low    low  5more       4      big   high\n",
      "1719    low    low  5more    more    small    low\n",
      "1720    low    low  5more    more    small    med\n",
      "1721    low    low  5more    more    small   high\n",
      "1722    low    low  5more    more      med    low\n",
      "1723    low    low  5more    more      med    med\n",
      "1724    low    low  5more    more      med   high\n",
      "1725    low    low  5more    more      big    low\n",
      "1726    low    low  5more    more      big    med\n",
      "1727    low    low  5more    more      big   high\n",
      "\n",
      "[1728 rows x 6 columns]\n"
     ]
    }
   ],
   "source": [
    "print(df.dtypes)\n",
    "print(df)"
   ]
  },
  {
   "cell_type": "code",
   "execution_count": 18,
   "metadata": {
    "collapsed": false
   },
   "outputs": [],
   "source": [
    "target = df['target']"
   ]
  },
  {
   "cell_type": "code",
   "execution_count": 19,
   "metadata": {
    "collapsed": false
   },
   "outputs": [],
   "source": [
    "# deletando a coluna que contém a variável 'target'\n",
    "# OBS: o segundo parâmetro da função diz em qual eixo procurar o objeto a ser deletado\n",
    "## 0 -> eixo x (linhas)\n",
    "## 1 -> eixo y (colunas)\n",
    "df = df.drop('target', 1)"
   ]
  },
  {
   "cell_type": "markdown",
   "metadata": {},
   "source": [
    "# Transformação dos dados..."
   ]
  },
  {
   "cell_type": "code",
   "execution_count": 21,
   "metadata": {
    "collapsed": false
   },
   "outputs": [],
   "source": [
    "# transformando o tipo de todas as colunas para 'category'\n",
    "for x in df.columns:\n",
    "    df[x] = pd.Categorical(df[x])"
   ]
  },
  {
   "cell_type": "code",
   "execution_count": 36,
   "metadata": {
    "collapsed": true
   },
   "outputs": [
    {
     "data": {
      "text/plain": [
       "buying      category\n",
       "maint       category\n",
       "doors       category\n",
       "persons     category\n",
       "lug_boot    category\n",
       "safety      category\n",
       "dtype: object"
      ]
     },
     "execution_count": 36,
     "metadata": {},
     "output_type": "execute_result"
    }
   ],
   "source": [
    "df.dtypes"
   ]
  },
  {
   "cell_type": "markdown",
   "metadata": {},
   "source": [
    "# Análise dos dados..."
   ]
  },
  {
   "cell_type": "code",
   "execution_count": 7,
   "metadata": {
    "collapsed": false
   },
   "outputs": [
    {
     "data": {
      "text/html": [
       "<div>\n",
       "<table border=\"1\" class=\"dataframe\">\n",
       "  <thead>\n",
       "    <tr style=\"text-align: right;\">\n",
       "      <th></th>\n",
       "      <th>buying</th>\n",
       "      <th>maint</th>\n",
       "      <th>doors</th>\n",
       "      <th>persons</th>\n",
       "      <th>lug_boot</th>\n",
       "      <th>safety</th>\n",
       "    </tr>\n",
       "  </thead>\n",
       "  <tbody>\n",
       "    <tr>\n",
       "      <th>count</th>\n",
       "      <td>1728</td>\n",
       "      <td>1728</td>\n",
       "      <td>1728</td>\n",
       "      <td>1728</td>\n",
       "      <td>1728</td>\n",
       "      <td>1728</td>\n",
       "    </tr>\n",
       "    <tr>\n",
       "      <th>unique</th>\n",
       "      <td>4</td>\n",
       "      <td>4</td>\n",
       "      <td>4</td>\n",
       "      <td>3</td>\n",
       "      <td>3</td>\n",
       "      <td>3</td>\n",
       "    </tr>\n",
       "    <tr>\n",
       "      <th>top</th>\n",
       "      <td>vhigh</td>\n",
       "      <td>vhigh</td>\n",
       "      <td>5more</td>\n",
       "      <td>more</td>\n",
       "      <td>small</td>\n",
       "      <td>med</td>\n",
       "    </tr>\n",
       "    <tr>\n",
       "      <th>freq</th>\n",
       "      <td>432</td>\n",
       "      <td>432</td>\n",
       "      <td>432</td>\n",
       "      <td>576</td>\n",
       "      <td>576</td>\n",
       "      <td>576</td>\n",
       "    </tr>\n",
       "  </tbody>\n",
       "</table>\n",
       "</div>"
      ],
      "text/plain": [
       "       buying  maint  doors persons lug_boot safety\n",
       "count    1728   1728   1728    1728     1728   1728\n",
       "unique      4      4      4       3        3      3\n",
       "top     vhigh  vhigh  5more    more    small    med\n",
       "freq      432    432    432     576      576    576"
      ]
     },
     "execution_count": 7,
     "metadata": {},
     "output_type": "execute_result"
    }
   ],
   "source": [
    "# utilizando função para descrever todos os campos do DataFrame\n",
    "df.describe()"
   ]
  },
  {
   "cell_type": "code",
   "execution_count": 22,
   "metadata": {
    "collapsed": true
   },
   "outputs": [
    {
     "name": "stdout",
     "output_type": "stream",
     "text": [
      "Nome da coluna: buying.\n",
      "vhigh    432\n",
      "med      432\n",
      "low      432\n",
      "high     432\n",
      "dtype: int64\n",
      "Nome da coluna: maint.\n",
      "vhigh    432\n",
      "med      432\n",
      "low      432\n",
      "high     432\n",
      "dtype: int64\n",
      "Nome da coluna: doors.\n",
      "5more    432\n",
      "4        432\n",
      "3        432\n",
      "2        432\n",
      "dtype: int64\n",
      "Nome da coluna: persons.\n",
      "more    576\n",
      "4       576\n",
      "2       576\n",
      "dtype: int64\n",
      "Nome da coluna: lug_boot.\n",
      "small    576\n",
      "med      576\n",
      "big      576\n",
      "dtype: int64\n",
      "Nome da coluna: safety.\n",
      "med     576\n",
      "low     576\n",
      "high    576\n",
      "dtype: int64\n"
     ]
    }
   ],
   "source": [
    "# como todas as variáveis são categóricas, deve-se analisar quantas vezes\n",
    "# cada uma aparece no dataframe\n",
    "for x in df.columns:\n",
    "    print(\"Nome da coluna: {}.\\n{}\".format(x, df[x].value_counts()))"
   ]
  },
  {
   "cell_type": "code",
   "execution_count": 9,
   "metadata": {
    "collapsed": false
   },
   "outputs": [
    {
     "data": {
      "text/plain": [
       "<matplotlib.axes._subplots.AxesSubplot at 0x9d6d5c0>"
      ]
     },
     "execution_count": 9,
     "metadata": {},
     "output_type": "execute_result"
    },
    {
     "data": {
      "image/png": "[encoded data removed]",
      "text/plain": [
       "<matplotlib.figure.Figure at 0x9d6c470>"
      ]
     },
     "metadata": {},
     "output_type": "display_data"
    }
   ],
   "source": [
    "# exemplo de como plotar os dados de uma variável categórica\n",
    "df['buying'].value_counts().plot(kind='bar')"
   ]
  },
  {
   "cell_type": "markdown",
   "metadata": {},
   "source": [
    "# Construção do modelo...\n",
    "\n",
    "Nesse exemplo, vamos utilizar o algoritmo Random Forest.\n",
    "\n",
    "De início, será necessário realizar pré-processamento dos dados, para transformar o DataFrame do 'pandas' em uma estrutura de dados que o scikit-learn possa ler. Para isso, vamos utilizar o pacote sklearn-pandas (classe DataFrameMapper), juntamente com a classe Pipeline do scikit-learn.\n",
    "\n",
    "O que iremos fazer é transformar as variáveis categóricas em formato numérico, já que os métodos fit() dos modelos do scikit-learn esperam um NumPy array como entrada."
   ]
  },
  {
   "cell_type": "code",
   "execution_count": 26,
   "metadata": {
    "collapsed": false
   },
   "outputs": [],
   "source": [
    "from sklearn import preprocessing\n",
    "from sklearn import metrics\n",
    "from sklearn.pipeline import Pipeline\n",
    "from sklearn.cross_validation import train_test_split\n",
    "from sklearn.ensemble import RandomForestClassifier\n",
    "from sklearn_pandas import DataFrameMapper, cross_val_score"
   ]
  },
  {
   "cell_type": "code",
   "execution_count": 23,
   "metadata": {
    "collapsed": true
   },
   "outputs": [],
   "source": [
    "# utilizando classe do pacote sklearn-pandas para mapear cada\n",
    "# coluna do DataFrame em um 'transformer' do scikit-learn\n",
    "mapper = DataFrameMapper([\n",
    "        ('buying', preprocessing.LabelBinarizer()),\n",
    "        ('maint', preprocessing.LabelBinarizer()),\n",
    "        ('doors', preprocessing.LabelBinarizer()),\n",
    "        ('persons', preprocessing.LabelBinarizer()),\n",
    "        ('lug_boot', preprocessing.LabelBinarizer()),\n",
    "        ('safety', preprocessing.LabelBinarizer())\n",
    "    ])"
   ]
  },
  {
   "cell_type": "code",
   "execution_count": 25,
   "metadata": {
    "collapsed": true
   },
   "outputs": [
    {
     "data": {
      "text/plain": [
       "array([[0, 0, 0, ..., 0, 1, 0],\n",
       "       [0, 0, 0, ..., 0, 0, 1],\n",
       "       [0, 0, 0, ..., 1, 0, 0],\n",
       "       ..., \n",
       "       [0, 1, 0, ..., 0, 1, 0],\n",
       "       [0, 1, 0, ..., 0, 0, 1],\n",
       "       [0, 1, 0, ..., 1, 0, 0]])"
      ]
     },
     "execution_count": 25,
     "metadata": {},
     "output_type": "execute_result"
    }
   ],
   "source": [
    "# testando para ver se a transformação funcionou\n",
    "np.round(mapper.fit_transform(df.copy()), 2)"
   ]
  },
  {
   "cell_type": "code",
   "execution_count": 27,
   "metadata": {
    "collapsed": true
   },
   "outputs": [],
   "source": [
    "# montando o pipeline que aplica a transformação no DataFrame e, na sequência,\n",
    "# inicializa o estimador da classe RandomForestClassifier\n",
    "pipe = Pipeline([\n",
    "        ('featurize', mapper),\n",
    "        ('rf', RandomForestClassifier(n_estimators=10))\n",
    "    ])"
   ]
  },
  {
   "cell_type": "code",
   "execution_count": 30,
   "metadata": {
    "collapsed": false
   },
   "outputs": [],
   "source": [
    "# separando os dados de treino dos dados de teste\n",
    "# -- setando 70% / 30% para dados de treino / teste\n",
    "df_treino, df_teste, y_treino, y_teste = train_test_split(df, target, test_size=0.3, random_state=100)"
   ]
  },
  {
   "cell_type": "code",
   "execution_count": 81,
   "metadata": {
    "collapsed": false
   },
   "outputs": [],
   "source": [
    "# treinando o modelo, usando 5-fold-cross-validation para validá-lo\n",
    "scores_treino = cross_val_score(pipe, df_treino, y_treino, cv=5)"
   ]
  },
  {
   "cell_type": "code",
   "execution_count": 86,
   "metadata": {
    "collapsed": false
   },
   "outputs": [
    {
     "data": {
      "text/plain": [
       "0.93999999999999995"
      ]
     },
     "execution_count": 86,
     "metadata": {},
     "output_type": "execute_result"
    }
   ],
   "source": [
    "# checando a média dos escores obtidos com o cross-validation do modelo - dados de treino\n",
    "# -- é necessário arredondar os resultados para 2 casas decimais, de forma a não causar diferença\n",
    "# -- quando o código rodar em outra máquina, tendo em vista as diferenças de hardware gerarem cálculos\n",
    "# -- ligeiramente diferentes\n",
    "np.round(scores_treino.mean(), 2)"
   ]
  },
  {
   "cell_type": "code",
   "execution_count": 87,
   "metadata": {
    "collapsed": false
   },
   "outputs": [],
   "source": [
    "# usando o modelo nos dados de teste\n",
    "# -- avaliação com 2-fold-cross-validation\n",
    "scores_teste = cross_val_score(pipe, df_teste, y_teste, cv=2)"
   ]
  },
  {
   "cell_type": "code",
   "execution_count": 91,
   "metadata": {
    "collapsed": false
   },
   "outputs": [
    {
     "data": {
      "text/plain": [
       "0.85999999999999999"
      ]
     },
     "execution_count": 91,
     "metadata": {},
     "output_type": "execute_result"
    }
   ],
   "source": [
    "# checando a média dos escores obtidos com o cross-validation do modelo - dados de teste\n",
    "np.round(scores_teste.mean(), 2)"
   ]
  }
 ],
 "metadata": {
  "kernelspec": {
   "display_name": "Python 3",
   "language": "python",
   "name": "python3"
  },
  "language_info": {
   "codemirror_mode": {
    "name": "ipython",
    "version": 3
   },
   "file_extension": ".py",
   "mimetype": "text/x-python",
   "name": "python",
   "nbconvert_exporter": "python",
   "pygments_lexer": "ipython3",
   "version": "3.5.1"
  }
 },
 "nbformat": 4,
 "nbformat_minor": 0
}
